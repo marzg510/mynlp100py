{
 "cells": [
  {
   "cell_type": "markdown",
   "metadata": {},
   "source": [
    "# 言語処理100本ノック 2020 (Rev 2)\n"
   ]
  },
  {
   "cell_type": "markdown",
   "metadata": {},
   "source": [
    "## 第4章: 形態素解析"
   ]
  },
  {
   "cell_type": "code",
   "execution_count": 8,
   "metadata": {},
   "outputs": [
    {
     "name": "stdout",
     "output_type": "stream",
     "text": [
      "\n",
      "\n",
      "\n",
      "\n",
      "\n",
      "\n",
      "\n",
      "\n",
      "\n",
      "\n"
     ]
    }
   ],
   "source": [
    "!head nlp100.github.io/data/neko.txt\n"
   ]
  },
  {
   "cell_type": "code",
   "execution_count": 11,
   "metadata": {},
   "outputs": [],
   "source": [
    "#!mecab -d /usr/lib/x86_64-linux-gnu/mecab/dic/mecab-ipadic-neologd nlp100.github.io/data/neko.txt >neko.txt.mecab\n",
    "!mecab nlp100.github.io/data/neko.txt >neko.txt.mecab"
   ]
  },
  {
   "cell_type": "code",
   "execution_count": 12,
   "metadata": {},
   "outputs": [
    {
     "name": "stdout",
     "output_type": "stream",
     "text": [
      "一\t名詞,数,*,*,*,*,一,イチ,イチ\n",
      "\t記号,一般,*,*,*,*,*\n",
      "EOS\n",
      "\t記号,一般,*,*,*,*,*\n",
      "EOS\n",
      "　\t記号,空白,*,*,*,*,　,　,　\n",
      "吾輩\t名詞,代名詞,一般,*,*,*,吾輩,ワガハイ,ワガハイ\n",
      "は\t助詞,係助詞,*,*,*,*,は,ハ,ワ\n",
      "猫\t名詞,一般,*,*,*,*,猫,ネコ,ネコ\n",
      "で\t助動詞,*,*,*,特殊・ダ,連用形,だ,デ,デ\n"
     ]
    }
   ],
   "source": [
    "!head neko.txt.mecab"
   ]
  },
  {
   "cell_type": "markdown",
   "metadata": {},
   "source": [
    "### 30. 形態素解析結果の読み込み"
   ]
  },
  {
   "cell_type": "code",
   "execution_count": 7,
   "metadata": {},
   "outputs": [
    {
     "name": "stdout",
     "output_type": "stream",
     "text": [
      "鬼滅の刃\t名詞,固有名詞,一般,*,*,*,鬼滅の刃,キメツノヤイバ,キメツノヤイバ\n",
      "の\t助詞,連体化,*,*,*,*,の,ノ,ノ\n",
      "映画\t名詞,一般,*,*,*,*,映画,エイガ,エイガ\n",
      "を\t助詞,格助詞,一般,*,*,*,を,ヲ,ヲ\n",
      "見\t動詞,自立,*,*,一段,連用形,見る,ミ,ミ\n",
      "に\t助詞,格助詞,一般,*,*,*,に,ニ,ニ\n",
      "行っ\t動詞,自立,*,*,五段・カ行促音便,連用タ接続,行く,イッ,イッ\n",
      "た\t助動詞,*,*,*,特殊・タ,基本形,た,タ,タ\n",
      "。\t記号,句点,*,*,*,*,。,。,。\n",
      "EOS\n",
      "\n"
     ]
    }
   ],
   "source": [
    "import MeCab\n",
    "\n",
    "# MeCab::Taggerクラスのインスタンスを作成（ここではデフォルト設定）\n",
    "#m = MeCab.Tagger('')\n",
    "m = MeCab.Tagger('-d /usr/lib/x86_64-linux-gnu/mecab/dic/mecab-ipadic-neologd')\n",
    "\n",
    "sentence = '鬼滅の刃の映画を見に行った。'\n",
    "\n",
    "# 日本語文章の解析処理\n",
    "ma = m.parse(sentence)\n",
    "\n",
    "# 解析結果を表示\n",
    "print(ma)"
   ]
  },
  {
   "cell_type": "code",
   "execution_count": null,
   "metadata": {},
   "outputs": [],
   "source": [
    "import MeCab\n",
    "\n",
    "# MeCab::Taggerクラスのインスタンスを作成（ここではデフォルト設定）\n",
    "#m = MeCab.Tagger('')\n",
    "m = MeCab.Tagger('-d /usr/lib/x86_64-linux-gnu/mecab/dic/mecab-ipadic-neologd')\n",
    "\n",
    "with open('nlp100.github.io/data/neko.txt') as f:\n",
    "  ma = m.parse(f.readline())"
   ]
  }
 ],
 "metadata": {
  "interpreter": {
   "hash": "7a4bb933896795fe5ae91d977d39e12bbb4f75d93cfa460740c4a1d6745976c0"
  },
  "kernelspec": {
   "display_name": "Python 3.8.8 64-bit ('anaconda3-2021.05': pyenv)",
   "name": "python3"
  },
  "language_info": {
   "codemirror_mode": {
    "name": "ipython",
    "version": 3
   },
   "file_extension": ".py",
   "mimetype": "text/x-python",
   "name": "python",
   "nbconvert_exporter": "python",
   "pygments_lexer": "ipython3",
   "version": "3.8.8"
  },
  "orig_nbformat": 4
 },
 "nbformat": 4,
 "nbformat_minor": 2
}
