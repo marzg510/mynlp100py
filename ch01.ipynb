{
 "cells": [
  {
   "cell_type": "markdown",
   "metadata": {},
   "source": [
    "# 言語処理100本ノック 2020 (Rev 2)\n"
   ]
  },
  {
   "cell_type": "markdown",
   "metadata": {},
   "source": [
    "## 第1章: 準備運動"
   ]
  },
  {
   "cell_type": "markdown",
   "metadata": {},
   "source": [
    "### 00. 文字列の逆順"
   ]
  },
  {
   "cell_type": "code",
   "execution_count": 6,
   "metadata": {},
   "outputs": [
    {
     "data": {
      "text/plain": [
       "'desserts'"
      ]
     },
     "execution_count": 6,
     "metadata": {},
     "output_type": "execute_result"
    }
   ],
   "source": [
    "\"stressed\"[::-1]"
   ]
  },
  {
   "cell_type": "markdown",
   "metadata": {},
   "source": [
    "### 01. 「パタトクカシーー」"
   ]
  },
  {
   "cell_type": "code",
   "execution_count": 9,
   "metadata": {},
   "outputs": [
    {
     "data": {
      "text/plain": [
       "'パトカー'"
      ]
     },
     "execution_count": 9,
     "metadata": {},
     "output_type": "execute_result"
    }
   ],
   "source": [
    "\"パタトクカシーー\"[::2]"
   ]
  },
  {
   "cell_type": "markdown",
   "metadata": {},
   "source": [
    "### 02. 「パトカー」＋「タクシー」＝「パタトクカシーー」"
   ]
  },
  {
   "cell_type": "code",
   "execution_count": 19,
   "metadata": {},
   "outputs": [
    {
     "data": {
      "text/plain": [
       "'パタトクカシーー'"
      ]
     },
     "execution_count": 19,
     "metadata": {},
     "output_type": "execute_result"
    }
   ],
   "source": [
    "p = \"パトカー\"\n",
    "t = \"タクシー\"\n",
    "\n",
    "s = \"\"\n",
    "for i in range(0,4):\n",
    "  s = s + p[i] + t[i]\n",
    "\n",
    "s"
   ]
  },
  {
   "cell_type": "markdown",
   "metadata": {},
   "source": [
    "### 03. 円周率"
   ]
  },
  {
   "cell_type": "code",
   "execution_count": 38,
   "metadata": {},
   "outputs": [
    {
     "data": {
      "text/plain": [
       "[3, 1, 4, 1, 5, 9, 2, 6, 5, 3, 5, 8, 9, 7, 9]"
      ]
     },
     "execution_count": 38,
     "metadata": {},
     "output_type": "execute_result"
    }
   ],
   "source": [
    "txt = \"Now I need a drink, alcoholic of course, after the heavy lectures involving quantum mechanics.\"\n",
    "l = []\n",
    "for s in txt.replace(',','').replace('.','').split():\n",
    "  l.append(len(s))\n",
    "l"
   ]
  },
  {
   "cell_type": "markdown",
   "metadata": {},
   "source": [
    "### 04. 元素記号"
   ]
  },
  {
   "cell_type": "code",
   "execution_count": 46,
   "metadata": {},
   "outputs": [
    {
     "data": {
      "text/plain": [
       "{1: 'H',\n",
       " 2: 'He',\n",
       " 3: 'Li',\n",
       " 4: 'Be',\n",
       " 5: 'B',\n",
       " 6: 'C',\n",
       " 7: 'N',\n",
       " 8: 'O',\n",
       " 9: 'F',\n",
       " 10: 'Ne',\n",
       " 11: 'Na',\n",
       " 12: 'Mi',\n",
       " 13: 'Al',\n",
       " 14: 'Si',\n",
       " 15: 'P',\n",
       " 16: 'S',\n",
       " 17: 'Cl',\n",
       " 18: 'Ar',\n",
       " 19: 'K',\n",
       " 20: 'Ca'}"
      ]
     },
     "execution_count": 46,
     "metadata": {},
     "output_type": "execute_result"
    }
   ],
   "source": [
    "txt = \"Hi He Lied Because Boron Could Not Oxidize Fluorine. New Nations Might Also Sign Peace Security Clause. Arthur King Can.\"\n",
    "pl = [1,5,6,7,8,9,15,16,19]\n",
    "d = {}\n",
    "for i,s in enumerate(txt.replace(',','').replace('.','').split()):\n",
    "  slen = 1 if (i+1) in pl else 2\n",
    "  d[i+1] = s[:slen]\n",
    "d"
   ]
  },
  {
   "cell_type": "markdown",
   "metadata": {},
   "source": [
    "### 05. n-gram"
   ]
  },
  {
   "cell_type": "code",
   "execution_count": 33,
   "metadata": {},
   "outputs": [
    {
     "name": "stdout",
     "output_type": "stream",
     "text": [
      "['I ', ' a', 'am', 'm ', ' a', 'an', 'n ', ' N', 'NL', 'LP', 'Pe', 'er', 'r']\n",
      "[['I', 'am'], ['am', 'an'], ['an', 'NLPer'], ['NLPer']]\n"
     ]
    }
   ],
   "source": [
    "def n_gram(l, n):\n",
    "#  for i in range(len(l)):\n",
    "#    print(l,i,i+n,l[i:i+n])\n",
    "#    r.append(l[i:i+n])\n",
    "#    print(l[i:i+n])\n",
    "  r = [ l[i:i+n] for i in range(len(l)) ]\n",
    "  return r\n",
    "\n",
    "txt = \"I am an NLPer\"\n",
    "#print(n_gram(txt,1))\n",
    "print(n_gram(txt,2))\n",
    "\n",
    "ls = txt.split()\n",
    "#print(n_gram(ls,1))\n",
    "print(n_gram(ls,2))\n"
   ]
  },
  {
   "cell_type": "markdown",
   "metadata": {},
   "source": [
    "### 06. 集合\n",
    "\n",
    "\"paraparaparadise\"と\"paragraph\"に含まれる文字bi-gramの集合を，それぞれ, XとYとして求め，XとYの和集合，積集合，差集合を求めよ．さらに，'se'というbi-gramがXおよびYに含まれるかどうかを調べよ．\n"
   ]
  },
  {
   "cell_type": "code",
   "execution_count": 47,
   "metadata": {},
   "outputs": [
    {
     "name": "stdout",
     "output_type": "stream",
     "text": [
      "True\n",
      "False\n"
     ]
    }
   ],
   "source": [
    "X = set(n_gram(\"paraparaparadise\",2))\n",
    "Y = set(n_gram(\"paragraph\",2))\n",
    "\n",
    "union = X.union(Y)\n",
    "intersect = X.intersection(Y)\n",
    "diff = X.difference(Y)\n",
    "\n",
    "print('se' in X)\n",
    "print('se' in Y)\n"
   ]
  },
  {
   "cell_type": "markdown",
   "metadata": {},
   "source": [
    "### 07. テンプレートによる文生成\n"
   ]
  },
  {
   "cell_type": "code",
   "execution_count": 2,
   "metadata": {},
   "outputs": [
    {
     "name": "stdout",
     "output_type": "stream",
     "text": [
      "12時の気温は22.4\n"
     ]
    }
   ],
   "source": [
    "def func(x, y, z):\n",
    "  return \"{}時の{}は{}\".format(x,y,z)\n",
    "\n",
    "print(func(12,\"気温\",22.4))\n",
    "\n",
    "\n"
   ]
  },
  {
   "cell_type": "markdown",
   "metadata": {},
   "source": [
    "### 08. 暗号文\n"
   ]
  },
  {
   "cell_type": "code",
   "execution_count": 3,
   "metadata": {},
   "outputs": [
    {
     "name": "stdout",
     "output_type": "stream",
     "text": [
      "Tvhg11\n",
      "Test11\n"
     ]
    }
   ],
   "source": [
    "import re\n",
    "\n",
    "def cipher(s):\n",
    "  r = \"\"\n",
    "  for c in s:\n",
    "    r = r + (chr(219 - ord(c)) if re.match(r'[a-z]', c) else c)\n",
    "  return r\n",
    "\n",
    "\n",
    "print(cipher(\"Test11\"))\n",
    "print(cipher(\"Tvhg11\"))\n",
    "\n"
   ]
  },
  {
   "cell_type": "markdown",
   "metadata": {},
   "source": [
    "### 09. Typoglycemia\n"
   ]
  },
  {
   "cell_type": "code",
   "execution_count": 19,
   "metadata": {},
   "outputs": [
    {
     "data": {
      "text/plain": [
       "['I',\n",
       " \"coulnd't\",\n",
       " 'bveeile',\n",
       " 'that',\n",
       " 'I',\n",
       " 'culod',\n",
       " 'altalcuy',\n",
       " 'unesandtrd',\n",
       " 'what',\n",
       " 'I',\n",
       " 'was',\n",
       " 'riaedng',\n",
       " ':',\n",
       " 'the',\n",
       " 'poeeanmnhl',\n",
       " 'poewr',\n",
       " 'of',\n",
       " 'the',\n",
       " 'hmuan',\n",
       " 'mind',\n",
       " '.']"
      ]
     },
     "execution_count": 19,
     "metadata": {},
     "output_type": "execute_result"
    }
   ],
   "source": [
    "import random\n",
    "\n",
    "txt = \"I couldn't believe that I could actually understand what I was reading : the phenomenal power of the human mind .\"\n",
    "\n",
    "r = []\n",
    "for w in txt.split():\n",
    "  w2 = w[0:1] + \"\".join(random.sample(w[1:-1],len(w[1:-1]))) + w[-1] if len(w) > 4 else w\n",
    "  r.append(w2)\n",
    "\n",
    "r\n"
   ]
  },
  {
   "cell_type": "code",
   "execution_count": null,
   "metadata": {},
   "outputs": [],
   "source": []
  }
 ],
 "metadata": {
  "interpreter": {
   "hash": "2a82f0c3c90d056ca25d28bca2a8f5a53063f79e8770a9030cfbf555bf0798f3"
  },
  "kernelspec": {
   "display_name": "Python 3.7.6 64-bit ('anaconda3-2020.02': pyenv)",
   "name": "python3"
  },
  "language_info": {
   "codemirror_mode": {
    "name": "ipython",
    "version": 3
   },
   "file_extension": ".py",
   "mimetype": "text/x-python",
   "name": "python",
   "nbconvert_exporter": "python",
   "pygments_lexer": "ipython3",
   "version": "3.7.6"
  },
  "orig_nbformat": 4
 },
 "nbformat": 4,
 "nbformat_minor": 2
}
